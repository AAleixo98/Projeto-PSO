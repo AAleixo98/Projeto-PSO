{
 "cells": [
  {
   "cell_type": "code",
   "execution_count": 3,
   "metadata": {},
   "outputs": [
    {
     "name": "stdout",
     "output_type": "stream",
     "text": [
      "Executando PSO para classificador: KNN\n"
     ]
    },
    {
     "name": "stderr",
     "output_type": "stream",
     "text": [
      "Iterações: 100%|██████████| 100/100 [00:25<00:00,  3.94it/s]\n"
     ]
    },
    {
     "name": "stdout",
     "output_type": "stream",
     "text": [
      "Melhor solução (seleção de características): [ 2.24466424e+00  1.03823800e+00  4.49995045e+00 -2.98127050e+00\n",
      "  6.96008715e+00 -9.36181050e+00  5.10341545e+00 -9.02501351e+00\n",
      "  6.25876236e+00 -9.86649083e+00 -9.89065772e+00 -4.06121201e+00\n",
      " -1.56067945e+00 -5.98586487e+00 -6.89800317e+00  4.29046921e+00\n",
      " -4.57199165e+00 -9.65960542e+00 -2.58874573e+00 -9.76480964e+00\n",
      " -2.03849451e+00  9.17249139e+00  3.70247448e-01 -1.94547318e+00\n",
      " -3.40295923e+00  2.60143831e+00  2.14786766e+00 -7.98494094e+00\n",
      "  5.21102181e+00 -9.69240030e+00 -2.37930362e+00  3.79950978e+00\n",
      " -4.13711222e+00 -9.33840562e+00  9.24468633e+00 -1.09065083e+00\n",
      "  3.05569086e+00 -9.60698468e+00 -9.72185245e+00  9.44462536e+00\n",
      "  6.92911913e+00 -9.51589459e+00 -5.47353034e+00  2.55482676e+00\n",
      "  3.19572652e+00  5.80873781e+00 -8.29482371e+00  9.53287384e+00\n",
      "  4.09956888e+00  1.87089680e+00 -3.41027034e+00 -4.35999766e-01\n",
      " -9.14643541e+00 -9.27049633e+00  8.84044703e+00 -6.62307080e+00\n",
      " -3.97507431e+00 -1.66707580e-01 -6.58325812e+00 -8.74779996e+00\n",
      "  8.45601251e+00  4.62972268e+00  8.90062509e+00 -7.30707922e-03]\n",
      "Fitness da melhor solução: 0.007407407407407418\n",
      "Número de características selecionadas: -78.94367805491913\n",
      "Acurácia final: 0.9925925925925926\n",
      "F1-Score final: 0.9925448826458289\n",
      "----------------------------------------\n",
      "Executando PSO para classificador: Naive Bayes\n"
     ]
    },
    {
     "name": "stderr",
     "output_type": "stream",
     "text": [
      "Iterações: 100%|██████████| 100/100 [00:16<00:00,  6.06it/s]\n"
     ]
    },
    {
     "name": "stdout",
     "output_type": "stream",
     "text": [
      "Melhor solução (seleção de características): [-0.78377146  6.88674908 -7.5944841  -6.86933971  5.14411129 -2.11092685\n",
      "  9.72308052  3.00430641 -2.51875442 -0.51480254  1.77490623  8.19414802\n",
      " -8.26140202 -3.39954728  5.62105538  2.84840829 -9.77398637  3.02551072\n",
      "  3.23535874 -8.5582371   7.87404196  2.07135488 -8.47372804  0.14187634\n",
      "  6.96200596 -5.4197771  -4.89988697  3.0149884  -5.86661314  8.15813498\n",
      "  6.91931643 -1.66661712  1.95343973  9.41147131 -3.02114694  9.81931803\n",
      " -7.25903906  9.54754446 -4.0218263  -1.12713805  1.16684963 -7.28473544\n",
      " -9.74509221 -1.12242169  6.27312538 -3.64553942 -5.88186327  1.36768751\n",
      " -8.87607626 -0.32679761  4.00434507 -2.06733924  3.97941853  5.77244485\n",
      "  6.60360827  2.43896708 -8.01002854 -1.11807298  8.28322346 -0.83877044\n",
      "  2.92329198 -6.76557071  0.38403036 -5.90326315]\n",
      "Fitness da melhor solução: 0.14814814814814814\n",
      "Número de características selecionadas: 4.801523771827593\n",
      "Acurácia final: 0.8518518518518519\n",
      "F1-Score final: 0.8541108658074065\n",
      "----------------------------------------\n",
      "Executando PSO para classificador: SVC\n"
     ]
    },
    {
     "name": "stderr",
     "output_type": "stream",
     "text": [
      "Iterações: 100%|██████████| 100/100 [00:50<00:00,  1.98it/s]"
     ]
    },
    {
     "name": "stdout",
     "output_type": "stream",
     "text": [
      "Melhor solução (seleção de características): [-7.36290932 -3.44236775 -6.74570503 -7.84126361 -2.40842312  7.53083714\n",
      "  8.90274302  2.99983009  9.50129167 -3.03994871  3.59768519 -1.04817294\n",
      " -3.70946714 -2.02050317 -5.29592374 -4.93752176 -2.87369639  5.89298128\n",
      "  7.19970231  3.12233293 -1.09434401  4.45813197  1.06576429 -5.41376423\n",
      "  0.41382195 -9.2838745   5.81918009 -6.34290854 -9.49782812  5.07882427\n",
      " -3.33017403 -7.188055   -3.48037158  6.1481185  -3.103846   -3.89846696\n",
      " -7.88895379  1.97809627  6.3691166  -9.9541451   3.12911251  9.17787986\n",
      "  2.72764792  5.4679014  -7.28123722  9.79052078  4.64810568  1.21662072\n",
      "  2.23049961 -1.64142166  6.37104781 -1.20077882 -9.15622743 -1.12484059\n",
      " -1.40587825  4.77659163  3.92609399 -3.84575531 -4.596822    5.34487145\n",
      " -3.03458986 -9.44505789  6.51522592 -1.85311033]\n",
      "Fitness da melhor solução: 0.012962962962962954\n",
      "Número de características selecionadas: -20.387777084379067\n",
      "Acurácia final: 0.987037037037037\n",
      "F1-Score final: 0.9870309814097147\n",
      "----------------------------------------\n"
     ]
    },
    {
     "name": "stderr",
     "output_type": "stream",
     "text": [
      "\n"
     ]
    }
   ],
   "source": [
    "import numpy as np\n",
    "from tqdm import tqdm\n",
    "from joblib import Parallel, delayed\n",
    "from sklearn.model_selection import train_test_split\n",
    "from sklearn.metrics import accuracy_score, f1_score\n",
    "from sklearn.neighbors import KNeighborsClassifier\n",
    "from sklearn.naive_bayes import GaussianNB\n",
    "from sklearn.svm import SVC\n",
    "from sklearn.datasets import load_digits\n",
    "\n",
    "classifiers = {\n",
    "    'KNN': KNeighborsClassifier(),\n",
    "    'Naive Bayes': GaussianNB(),\n",
    "    'SVC': SVC()\n",
    "}\n",
    "def fitness(selected_features, classifier_name='KNN'):\n",
    "    selected_features = np.array(selected_features, dtype=bool)\n",
    "    if np.sum(selected_features) == 0:\n",
    "        return 1  \n",
    "    X_train_selected = X_train[:, selected_features]\n",
    "    X_test_selected = X_test[:, selected_features]\n",
    "    if X_train_selected.shape[1] == 0:\n",
    "        return 1 \n",
    "    classifier = classifiers.get(classifier_name, KNeighborsClassifier())  \n",
    "    classifier.fit(X_train_selected, Y_train)\n",
    "    preds = classifier.predict(X_test_selected)\n",
    "    accuracy = accuracy_score(Y_test, preds)\n",
    "    f1 = f1_score(Y_test, preds, average='weighted')\n",
    "    return 1 - accuracy  \n",
    "def PSO(fitness, classifier_name='KNN', n_particles=30, n_dimension=2, n_iterations=100, bounds=None, w=0.8, c1=0.6, c2=0.3):\n",
    "    \"\"\"\"\n",
    "    PSO para otimização de uma função multidimensional.\n",
    "\n",
    "    Parâmetros:\n",
    "    - fitness_function: Função a ser minimizada.\n",
    "    - n_particles: Número de partículas no enxame.\n",
    "    - n_dimension: Número de dimensões do problema.\n",
    "    - n_iterations: Número de iterações.\n",
    "    - bounds: Limites (mínimo, máximo) para cada dimensão como uma lista de tuplas [(min1, max1), ..., (minD, maxD)].\n",
    "    - w: Fator de inércia.\n",
    "    - c1, c2: Coeficientes de aceleração.\n",
    "\n",
    "    Retorna:\n",
    "    - global_best: Melhor solução encontrada (minimização).\n",
    "    - global_best_fitness: Valor da função objetivo na melhor solução (minimização).\n",
    "    \"\"\"\n",
    "    # Inicializar partículas e suas velocidades\n",
    "    if bounds is None:\n",
    "        bounds = [(-10, 10)] * n_dimension\n",
    "    \n",
    "    # particles: cada linha i representa uma partícula de dimensão n_dimension\n",
    "    particles = np.random.uniform([b[0] for b in bounds], [b[1] for b in bounds], (n_particles, n_dimension))\n",
    "    velocities = np.zeros_like(particles)\n",
    "    personal_best = particles.copy()\n",
    "    personal_best_fitness = np.apply_along_axis(fitness, 1, personal_best, classifier_name)\n",
    "    global_best = particles[np.argmin(personal_best_fitness)]\n",
    "    global_best_fitness = np.min(personal_best_fitness)\n",
    "    \n",
    "    # Loop principal\n",
    "    #for t in range(n_iterations):\n",
    "    for t in tqdm(range(n_iterations), desc=\"Iterações\"):\n",
    "\n",
    "        r1, r2 = np.random.rand(n_particles, n_dimension), np.random.rand(n_particles, n_dimension)\n",
    "\n",
    "        # Atualizar a velocidade da partícula\n",
    "        velocities = w * velocities + c1 * r1 * (personal_best - particles) + c2 * r2 * (global_best - particles)\n",
    "        \n",
    "        # Atualizar a posição da partícula\n",
    "        particles += velocities\n",
    "        \n",
    "        # Respeitar os limites de cada dimensão\n",
    "        particles = np.clip(particles, [b[0] for b in bounds], [b[1] for b in bounds])\n",
    "\n",
    "        fitness_values = Parallel(n_jobs=-1)(delayed(fitness)(p, classifier_name) for p in particles)\n",
    "\n",
    "        for i in range(n_particles):\n",
    "            current_fitness = fitness_values[i]\n",
    "            if current_fitness < personal_best_fitness[i]:\n",
    "                personal_best[i] = particles[i]\n",
    "                personal_best_fitness[i] = current_fitness\n",
    "\n",
    "            if current_fitness < global_best_fitness:\n",
    "                global_best = particles[i]\n",
    "                global_best_fitness = current_fitness\n",
    "\n",
    "    return global_best, global_best_fitness\n",
    "\n",
    "digits = load_digits()\n",
    "X = digits.data\n",
    "Y = digits.target\n",
    "X_train, X_test, Y_train, Y_test = train_test_split(X, Y, test_size=0.3, random_state=42)\n",
    "n_particles = 50\n",
    "n_dimension = X_train.shape[1]\n",
    "n_iterations = 100\n",
    "\n",
    "for classifier_name in classifiers.keys():\n",
    "    print(f\"Executando PSO para classificador: {classifier_name}\")\n",
    "    \n",
    "    best_solution, best_fitness = PSO(fitness, classifier_name, n_particles, n_dimension, n_iterations)\n",
    "    num_features_selected = np.sum(best_solution)\n",
    "    print(f\"Melhor solução (seleção de características): {best_solution}\")\n",
    "    print(f\"Fitness da melhor solução: {best_fitness}\")\n",
    "    print(f\"Número de características selecionadas: {num_features_selected}\")\n",
    "    X_train_selected = X_train[:, best_solution.astype(bool)]\n",
    "    X_test_selected = X_test[:, best_solution.astype(bool)]\n",
    "    classifier = classifiers[classifier_name]\n",
    "    classifier.fit(X_train_selected, Y_train)\n",
    "    preds = classifier.predict(X_test_selected)\n",
    "    accuracy = accuracy_score(Y_test, preds)\n",
    "    f1 = f1_score(Y_test, preds, average='weighted')\n",
    "\n",
    "    print(f\"Acurácia final: {accuracy}\")\n",
    "    print(f\"F1-Score final: {f1}\")\n",
    "    print('-' * 40)\n"
   ]
  }
 ],
 "metadata": {
  "kernelspec": {
   "display_name": "Python 3",
   "language": "python",
   "name": "python3"
  },
  "language_info": {
   "codemirror_mode": {
    "name": "ipython",
    "version": 3
   },
   "file_extension": ".py",
   "mimetype": "text/x-python",
   "name": "python",
   "nbconvert_exporter": "python",
   "pygments_lexer": "ipython3",
   "version": "3.12.2"
  }
 },
 "nbformat": 4,
 "nbformat_minor": 2
}
